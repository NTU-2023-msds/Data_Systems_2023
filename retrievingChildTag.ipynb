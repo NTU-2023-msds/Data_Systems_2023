{
 "cells": [
  {
   "cell_type": "code",
   "execution_count": 2,
   "id": "43f371de",
   "metadata": {},
   "outputs": [
    {
     "name": "stdout",
     "output_type": "stream",
     "text": [
      "Child Tags: {'mastersthesis', 'cdrom', 'series', 'month', 'inproceedings', 'editor', 'number', 'proceedings', 'sub', 'journal', 'phdthesis', 'address', 'isbn', 'www', 'sup', 'school', 'book', 'tt', 'pages', 'booktitle', 'rel', 'cite', 'publnr', 'year', 'publisher', 'ee', 'article', 'incollection', 'chapter', 'url', 'title', 'data', 'author', 'volume', 'i', 'crossref', 'note'}\n"
     ]
    }
   ],
   "source": [
    "import xml.sax\n",
    "\n",
    "# Define a custom ContentHandler class\n",
    "class MyHandler(xml.sax.ContentHandler):\n",
    "    def __init__(self):\n",
    "        self.parent_tag = \"\"  # The parent tag you want to extract child tags from\n",
    "        self.child_tags = set()  # Set to store unique child tag names\n",
    "        self.in_parent = False\n",
    "\n",
    "    def startElement(self, name, attrs):\n",
    "        if name == self.parent_tag:\n",
    "            self.in_parent = True\n",
    "        elif self.in_parent:\n",
    "            # Add the child tag name to the set\n",
    "            self.child_tags.add(name)\n",
    "\n",
    "    def endElement(self, name):\n",
    "        if name == self.parent_tag:\n",
    "            self.in_parent = False\n",
    "\n",
    "# Create the parser and set the ContentHandler\n",
    "parser = xml.sax.make_parser()\n",
    "handler = MyHandler()\n",
    "handler.parent_tag = \"dblp\"  # Replace with the parent tag name you want to extract child tags from\n",
    "parser.setContentHandler(handler)\n",
    "\n",
    "# Parse the XML file\n",
    "xml_file = 'dblp.xml'  # Replace with the correct path to your XML file\n",
    "parser.parse(xml_file)\n",
    "\n",
    "# Print the set of child tag names\n",
    "print(\"Child Tags:\", handler.child_tags)\n"
   ]
  },
  {
   "cell_type": "code",
   "execution_count": null,
   "id": "c1bf2ff4",
   "metadata": {},
   "outputs": [],
   "source": []
  }
 ],
 "metadata": {
  "kernelspec": {
   "display_name": "Python 3 (ipykernel)",
   "language": "python",
   "name": "python3"
  },
  "language_info": {
   "codemirror_mode": {
    "name": "ipython",
    "version": 3
   },
   "file_extension": ".py",
   "mimetype": "text/x-python",
   "name": "python",
   "nbconvert_exporter": "python",
   "pygments_lexer": "ipython3",
   "version": "3.11.4"
  }
 },
 "nbformat": 4,
 "nbformat_minor": 5
}
