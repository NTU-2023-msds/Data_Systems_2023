{
 "cells": [
  {
   "cell_type": "code",
   "execution_count": 1,
   "id": "85bc07dd",
   "metadata": {},
   "outputs": [],
   "source": [
    "# Read the predefined entities from the dtd file and the content of the xml file\n",
    "# with open('dblp.xml', 'r') as f:\n",
    "#     content_lines = f.readlines()\n",
    "    \n",
    "# with open('new_head.xml', 'r') as f:\n",
    "#     head_lines = f.readlines()"
   ]
  },
  {
   "cell_type": "code",
   "execution_count": 2,
   "id": "ed7272bc",
   "metadata": {},
   "outputs": [],
   "source": [
    "# Replace the head of the xml file with the predefined entities\n",
    "# with open('dblp_new_head.xml', 'w') as f:\n",
    "#     lines = head_lines + content_lines[2:]\n",
    "#     for number, line in enumerate(lines):\n",
    "#         f.write(line)"
   ]
  },
  {
   "cell_type": "code",
   "execution_count": 1,
   "id": "94460f6e",
   "metadata": {},
   "outputs": [
    {
     "name": "stdout",
     "output_type": "stream",
     "text": [
      "<?xml version=\"1.0\" encoding=\"ISO-8859-1\"?>\n",
      "<!DOCTYPE dblp [\n",
      "<!ENTITY reg   \"&#174;\">\n",
      "<!ENTITY micro \"&#181;\">\n",
      "<!ENTITY times \"&#215;\">\n"
     ]
    }
   ],
   "source": [
    "with open('data/dblp_new_head.xml', 'r') as f:\n",
    "    for i in range(5):\n",
    "        line = f.readline()\n",
    "        print(line.strip())"
   ]
  },
  {
   "cell_type": "code",
   "execution_count": 1,
   "id": "3874d309",
   "metadata": {},
   "outputs": [],
   "source": [
    "from xml.sax.handler import ContentHandler\n",
    "from xml.sax import parse\n",
    "import json\n",
    "\n",
    "class XMLHandler(ContentHandler):\n",
    "    \n",
    "    def __init__(self):\n",
    "        self.article_num = 0\n",
    "        self.proceedings_num = 0\n",
    "        self.inproceedings_num = 0\n",
    "\n",
    "    def startElement(self, name, attrs):\n",
    "        if name == \"article\": \n",
    "            self.article_num += 1\n",
    "        elif name == \"proceedings\": \n",
    "            self.proceedings_num += 1\n",
    "        elif name == \"inproceedings\": \n",
    "            self.inproceedings_num += 1\n",
    "        # print(f\"BEGIN: <{name}>, {attrs.keys()}\")\n",
    "\n",
    "    def endElement(self, name):\n",
    "        pass\n",
    "        #print(f\"END: </{name}>\")\n",
    "\n",
    "    def characters(self, content):\n",
    "        pass\n",
    "#         if content.strip() != \"\":\n",
    "#             print(\"CONTENT:\", repr(content))"
   ]
  },
  {
   "cell_type": "code",
   "execution_count": 20,
   "id": "b80e7157",
   "metadata": {},
   "outputs": [],
   "source": [
    "class XMLHandler_json(ContentHandler):\n",
    "\n",
    "    def __init__(self):\n",
    "        super().__init__()\n",
    "        self.element_stack = []\n",
    "\n",
    "    @property\n",
    "    def current_element(self):\n",
    "        return self.element_stack[-1]\n",
    "\n",
    "    def startElement(self, name, attrs):\n",
    "        self.element_stack.append({\n",
    "            \"name\": name,\n",
    "            \"attributes\": dict(attrs),\n",
    "            \"children\": [],\n",
    "            \"value\": \"\"\n",
    "        })\n",
    "    \n",
    "    def characters(self, content):\n",
    "        self.current_element[\"value\"] += content\n",
    "        \n",
    "    def endElement(self, name):\n",
    "        if name in [\"proceedings\"]:\n",
    "#         if name in [\"author\"]:\n",
    "#             try:\n",
    "#                 temp = self.current_element[\"attributes\"][\"publtype\"]\n",
    "#                 if temp not in [\"withdrawn\", \"informal\"]:\n",
    "#                     print(temp)\n",
    "#                     input()\n",
    "#             except:\n",
    "#                 pass\n",
    "            \n",
    "            print(json.dumps(self.current_element, indent=4))\n",
    "            input()\n",
    "        clean(self.current_element)\n",
    "        if len(self.element_stack) > 1:\n",
    "            child = self.element_stack.pop()\n",
    "            self.current_element[\"children\"].append(child)\n",
    "\n",
    "def clean(element):\n",
    "    element[\"value\"] = element[\"value\"].strip()\n",
    "    for key in (\"attributes\", \"children\", \"value\"):\n",
    "        if not element[key]:\n",
    "            del element[key]"
   ]
  },
  {
   "cell_type": "code",
   "execution_count": 21,
   "id": "6c186cda",
   "metadata": {},
   "outputs": [
    {
     "name": "stdout",
     "output_type": "stream",
     "text": [
      "{\n",
      "    \"name\": \"proceedings\",\n",
      "    \"attributes\": {\n",
      "        \"mdate\": \"2019-09-07\",\n",
      "        \"key\": \"tr/trier/MI99-17\",\n",
      "        \"publtype\": \"informal\"\n",
      "    },\n",
      "    \"children\": [\n",
      "        {\n",
      "            \"name\": \"editor\",\n",
      "            \"value\": \"Dieter Baum\"\n",
      "        },\n",
      "        {\n",
      "            \"name\": \"editor\",\n",
      "            \"value\": \"Norbert Th. M\\u00fcller\"\n",
      "        },\n",
      "        {\n",
      "            \"name\": \"editor\",\n",
      "            \"value\": \"Richard R\\u00f6dler\"\n",
      "        },\n",
      "        {\n",
      "            \"name\": \"title\",\n",
      "            \"value\": \"MMB '99, Messung, Modellierung und Bewertung von Rechen- und Kommunikationssystemen, 10. GI/NTG-Fachtagung, 22.-24. September 1999, Trier, Kurzbeitr\\u00e4ge und Toolbeschreibungen\"\n",
      "        },\n",
      "        {\n",
      "            \"name\": \"booktitle\",\n",
      "            \"value\": \"MMB (Kurzvortr\\u00e4ge)\"\n",
      "        },\n",
      "        {\n",
      "            \"name\": \"series\",\n",
      "            \"value\": \"Universit\\u00e4t Trier, Mathematik/Informatik, Forschungsbericht\"\n",
      "        },\n",
      "        {\n",
      "            \"name\": \"volume\",\n",
      "            \"value\": \"99-16\"\n",
      "        },\n",
      "        {\n",
      "            \"name\": \"year\",\n",
      "            \"value\": \"1999\"\n",
      "        },\n",
      "        {\n",
      "            \"name\": \"url\",\n",
      "            \"value\": \"db/conf/mmb/mmb99k.html\"\n",
      "        }\n",
      "    ],\n",
      "    \"value\": \"\\n\\n\\n\\n\\n\\n\\n\\n\\n\\n\"\n",
      "}\n",
      "\n",
      "{\n",
      "    \"name\": \"proceedings\",\n",
      "    \"attributes\": {\n",
      "        \"mdate\": \"2020-03-27\",\n",
      "        \"key\": \"reference/genetic/2015\"\n",
      "    },\n",
      "    \"children\": [\n",
      "        {\n",
      "            \"name\": \"editor\",\n",
      "            \"attributes\": {\n",
      "                \"orcid\": \"0000-0002-2798-0104\"\n",
      "            },\n",
      "            \"value\": \"Amir Hossein Gandomi\"\n",
      "        },\n",
      "        {\n",
      "            \"name\": \"editor\",\n",
      "            \"attributes\": {\n",
      "                \"orcid\": \"0000-0002-7593-8509\"\n",
      "            },\n",
      "            \"value\": \"Amir Hossein Alavi\"\n",
      "        },\n",
      "        {\n",
      "            \"name\": \"editor\",\n",
      "            \"attributes\": {\n",
      "                \"orcid\": \"0000-0002-7002-5815\"\n",
      "            },\n",
      "            \"value\": \"Conor Ryan\"\n",
      "        },\n",
      "        {\n",
      "            \"name\": \"title\",\n",
      "            \"value\": \"Handbook of Genetic Programming Applications\"\n",
      "        },\n",
      "        {\n",
      "            \"name\": \"publisher\",\n",
      "            \"value\": \"Springer\"\n",
      "        },\n",
      "        {\n",
      "            \"name\": \"year\",\n",
      "            \"value\": \"2015\"\n",
      "        },\n",
      "        {\n",
      "            \"name\": \"isbn\",\n",
      "            \"value\": \"978-3-319-20882-4\"\n",
      "        },\n",
      "        {\n",
      "            \"name\": \"ee\",\n",
      "            \"value\": \"https://doi.org/10.1007/978-3-319-20883-1\"\n",
      "        },\n",
      "        {\n",
      "            \"name\": \"url\",\n",
      "            \"value\": \"db/reference/genetic/genetic2015.html\"\n",
      "        }\n",
      "    ],\n",
      "    \"value\": \"\\n\\n\\n\\n\\n\\n\\n\\n\\n\\n\"\n",
      "}\n",
      "\n",
      "{\n",
      "    \"name\": \"proceedings\",\n",
      "    \"attributes\": {\n",
      "        \"mdate\": \"2017-05-16\",\n",
      "        \"key\": \"reference/med/2013\"\n",
      "    },\n",
      "    \"children\": [\n",
      "        {\n",
      "            \"name\": \"editor\",\n",
      "            \"value\": \"Borko Furht\"\n",
      "        },\n",
      "        {\n",
      "            \"name\": \"editor\",\n",
      "            \"value\": \"Ankur Agarwal\"\n",
      "        },\n",
      "        {\n",
      "            \"name\": \"title\",\n",
      "            \"value\": \"Handbook of Medical and Healthcare Technologies\"\n",
      "        },\n",
      "        {\n",
      "            \"name\": \"year\",\n",
      "            \"value\": \"2013\"\n",
      "        },\n",
      "        {\n",
      "            \"name\": \"publisher\",\n",
      "            \"value\": \"Springer\"\n",
      "        },\n",
      "        {\n",
      "            \"name\": \"ee\",\n",
      "            \"value\": \"https://doi.org/10.1007/978-1-4614-8495-0\"\n",
      "        },\n",
      "        {\n",
      "            \"name\": \"isbn\",\n",
      "            \"value\": \"978-1-4614-8494-3\"\n",
      "        },\n",
      "        {\n",
      "            \"name\": \"url\",\n",
      "            \"value\": \"db/reference/med/med2013.html\"\n",
      "        }\n",
      "    ],\n",
      "    \"value\": \"\\n\\n\\n\\n\\n\\n\\n\\n\\n\"\n",
      "}\n",
      "\n",
      "{\n",
      "    \"name\": \"proceedings\",\n",
      "    \"attributes\": {\n",
      "        \"mdate\": \"2023-03-16\",\n",
      "        \"key\": \"journals/tcci/2014-14\"\n",
      "    },\n",
      "    \"children\": [\n",
      "        {\n",
      "            \"name\": \"editor\",\n",
      "            \"value\": \"Ngoc Thanh Nguyen 0001\"\n",
      "        },\n",
      "        {\n",
      "            \"name\": \"title\",\n",
      "            \"value\": \"Transactions on Computational Collective Intelligence XIV\"\n",
      "        },\n",
      "        {\n",
      "            \"name\": \"year\",\n",
      "            \"value\": \"2014\"\n",
      "        },\n",
      "        {\n",
      "            \"name\": \"publisher\",\n",
      "            \"value\": \"Springer\"\n",
      "        },\n",
      "        {\n",
      "            \"name\": \"series\",\n",
      "            \"attributes\": {\n",
      "                \"href\": \"db/series/lncs/index.html\"\n",
      "            },\n",
      "            \"value\": \"Lecture Notes in Computer Science\"\n",
      "        },\n",
      "        {\n",
      "            \"name\": \"volume\",\n",
      "            \"value\": \"8615\"\n",
      "        },\n",
      "        {\n",
      "            \"name\": \"ee\",\n",
      "            \"value\": \"https://doi.org/10.1007/978-3-662-44509-9\"\n",
      "        },\n",
      "        {\n",
      "            \"name\": \"isbn\",\n",
      "            \"value\": \"978-3-662-44508-2\"\n",
      "        },\n",
      "        {\n",
      "            \"name\": \"booktitle\",\n",
      "            \"value\": \"Trans. Computational Collective Intelligence\"\n",
      "        },\n",
      "        {\n",
      "            \"name\": \"url\",\n",
      "            \"value\": \"db/journals/tcci/tcci14.html\"\n",
      "        }\n",
      "    ],\n",
      "    \"value\": \"\\n\\n\\n\\n\\n\\n\\n\\n\\n\\n\\n\"\n",
      "}\n"
     ]
    },
    {
     "ename": "KeyboardInterrupt",
     "evalue": "Interrupted by user",
     "output_type": "error",
     "traceback": [
      "\u001b[1;31m---------------------------------------------------------------------------\u001b[0m",
      "\u001b[1;31mKeyboardInterrupt\u001b[0m                         Traceback (most recent call last)",
      "Cell \u001b[1;32mIn[21], line 6\u001b[0m\n\u001b[0;32m      3\u001b[0m t1 \u001b[38;5;241m=\u001b[39m time\u001b[38;5;241m.\u001b[39mtime()\n\u001b[0;32m      5\u001b[0m handler \u001b[38;5;241m=\u001b[39m XMLHandler_json()\n\u001b[1;32m----> 6\u001b[0m \u001b[43mparse\u001b[49m\u001b[43m(\u001b[49m\u001b[38;5;124;43m\"\u001b[39;49m\u001b[38;5;124;43mdata/dblp_new_head.xml\u001b[39;49m\u001b[38;5;124;43m\"\u001b[39;49m\u001b[43m,\u001b[49m\u001b[43m \u001b[49m\u001b[43mhandler\u001b[49m\u001b[43m)\u001b[49m\n\u001b[0;32m      8\u001b[0m t2 \u001b[38;5;241m=\u001b[39m time\u001b[38;5;241m.\u001b[39mtime()\n\u001b[0;32m     10\u001b[0m \u001b[38;5;28mprint\u001b[39m(\u001b[38;5;124m\"\u001b[39m\u001b[38;5;124mTime taken:\u001b[39m\u001b[38;5;124m\"\u001b[39m, t2\u001b[38;5;241m-\u001b[39mt1)\n",
      "File \u001b[1;32m~\\miniconda3\\envs\\DataSys_SAX\\lib\\xml\\sax\\__init__.py:33\u001b[0m, in \u001b[0;36mparse\u001b[1;34m(source, handler, errorHandler)\u001b[0m\n\u001b[0;32m     31\u001b[0m parser\u001b[38;5;241m.\u001b[39msetContentHandler(handler)\n\u001b[0;32m     32\u001b[0m parser\u001b[38;5;241m.\u001b[39msetErrorHandler(errorHandler)\n\u001b[1;32m---> 33\u001b[0m \u001b[43mparser\u001b[49m\u001b[38;5;241;43m.\u001b[39;49m\u001b[43mparse\u001b[49m\u001b[43m(\u001b[49m\u001b[43msource\u001b[49m\u001b[43m)\u001b[49m\n",
      "File \u001b[1;32m~\\miniconda3\\envs\\DataSys_SAX\\lib\\xml\\sax\\expatreader.py:111\u001b[0m, in \u001b[0;36mExpatParser.parse\u001b[1;34m(self, source)\u001b[0m\n\u001b[0;32m    109\u001b[0m     \u001b[38;5;28mself\u001b[39m\u001b[38;5;241m.\u001b[39mreset()\n\u001b[0;32m    110\u001b[0m     \u001b[38;5;28mself\u001b[39m\u001b[38;5;241m.\u001b[39m_cont_handler\u001b[38;5;241m.\u001b[39msetDocumentLocator(ExpatLocator(\u001b[38;5;28mself\u001b[39m))\n\u001b[1;32m--> 111\u001b[0m     \u001b[43mxmlreader\u001b[49m\u001b[38;5;241;43m.\u001b[39;49m\u001b[43mIncrementalParser\u001b[49m\u001b[38;5;241;43m.\u001b[39;49m\u001b[43mparse\u001b[49m\u001b[43m(\u001b[49m\u001b[38;5;28;43mself\u001b[39;49m\u001b[43m,\u001b[49m\u001b[43m \u001b[49m\u001b[43msource\u001b[49m\u001b[43m)\u001b[49m\n\u001b[0;32m    112\u001b[0m \u001b[38;5;28;01mexcept\u001b[39;00m:\n\u001b[0;32m    113\u001b[0m     \u001b[38;5;66;03m# bpo-30264: Close the source on error to not leak resources:\u001b[39;00m\n\u001b[0;32m    114\u001b[0m     \u001b[38;5;66;03m# xml.sax.parse() doesn't give access to the underlying parser\u001b[39;00m\n\u001b[0;32m    115\u001b[0m     \u001b[38;5;66;03m# to the caller\u001b[39;00m\n\u001b[0;32m    116\u001b[0m     \u001b[38;5;28mself\u001b[39m\u001b[38;5;241m.\u001b[39m_close_source()\n",
      "File \u001b[1;32m~\\miniconda3\\envs\\DataSys_SAX\\lib\\xml\\sax\\xmlreader.py:125\u001b[0m, in \u001b[0;36mIncrementalParser.parse\u001b[1;34m(self, source)\u001b[0m\n\u001b[0;32m    123\u001b[0m buffer \u001b[38;5;241m=\u001b[39m file\u001b[38;5;241m.\u001b[39mread(\u001b[38;5;28mself\u001b[39m\u001b[38;5;241m.\u001b[39m_bufsize)\n\u001b[0;32m    124\u001b[0m \u001b[38;5;28;01mwhile\u001b[39;00m buffer:\n\u001b[1;32m--> 125\u001b[0m     \u001b[38;5;28;43mself\u001b[39;49m\u001b[38;5;241;43m.\u001b[39;49m\u001b[43mfeed\u001b[49m\u001b[43m(\u001b[49m\u001b[43mbuffer\u001b[49m\u001b[43m)\u001b[49m\n\u001b[0;32m    126\u001b[0m     buffer \u001b[38;5;241m=\u001b[39m file\u001b[38;5;241m.\u001b[39mread(\u001b[38;5;28mself\u001b[39m\u001b[38;5;241m.\u001b[39m_bufsize)\n\u001b[0;32m    127\u001b[0m \u001b[38;5;28mself\u001b[39m\u001b[38;5;241m.\u001b[39mclose()\n",
      "File \u001b[1;32m~\\miniconda3\\envs\\DataSys_SAX\\lib\\xml\\sax\\expatreader.py:217\u001b[0m, in \u001b[0;36mExpatParser.feed\u001b[1;34m(self, data, isFinal)\u001b[0m\n\u001b[0;32m    210\u001b[0m     \u001b[38;5;28mself\u001b[39m\u001b[38;5;241m.\u001b[39m_cont_handler\u001b[38;5;241m.\u001b[39mstartDocument()\n\u001b[0;32m    212\u001b[0m \u001b[38;5;28;01mtry\u001b[39;00m:\n\u001b[0;32m    213\u001b[0m     \u001b[38;5;66;03m# The isFinal parameter is internal to the expat reader.\u001b[39;00m\n\u001b[0;32m    214\u001b[0m     \u001b[38;5;66;03m# If it is set to true, expat will check validity of the entire\u001b[39;00m\n\u001b[0;32m    215\u001b[0m     \u001b[38;5;66;03m# document. When feeding chunks, they are not normally final -\u001b[39;00m\n\u001b[0;32m    216\u001b[0m     \u001b[38;5;66;03m# except when invoked from close.\u001b[39;00m\n\u001b[1;32m--> 217\u001b[0m     \u001b[38;5;28;43mself\u001b[39;49m\u001b[38;5;241;43m.\u001b[39;49m\u001b[43m_parser\u001b[49m\u001b[38;5;241;43m.\u001b[39;49m\u001b[43mParse\u001b[49m\u001b[43m(\u001b[49m\u001b[43mdata\u001b[49m\u001b[43m,\u001b[49m\u001b[43m \u001b[49m\u001b[43misFinal\u001b[49m\u001b[43m)\u001b[49m\n\u001b[0;32m    218\u001b[0m \u001b[38;5;28;01mexcept\u001b[39;00m expat\u001b[38;5;241m.\u001b[39merror \u001b[38;5;28;01mas\u001b[39;00m e:\n\u001b[0;32m    219\u001b[0m     exc \u001b[38;5;241m=\u001b[39m SAXParseException(expat\u001b[38;5;241m.\u001b[39mErrorString(e\u001b[38;5;241m.\u001b[39mcode), e, \u001b[38;5;28mself\u001b[39m)\n",
      "File \u001b[1;32mc:\\b\\abs_cap8ottc4p\\croot\\python-split_1688583520241\\work\\modules\\pyexpat.c:470\u001b[0m, in \u001b[0;36mEndElement\u001b[1;34m()\u001b[0m\n",
      "File \u001b[1;32m~\\miniconda3\\envs\\DataSys_SAX\\lib\\xml\\sax\\expatreader.py:336\u001b[0m, in \u001b[0;36mExpatParser.end_element\u001b[1;34m(self, name)\u001b[0m\n\u001b[0;32m    335\u001b[0m \u001b[38;5;28;01mdef\u001b[39;00m \u001b[38;5;21mend_element\u001b[39m(\u001b[38;5;28mself\u001b[39m, name):\n\u001b[1;32m--> 336\u001b[0m     \u001b[38;5;28;43mself\u001b[39;49m\u001b[38;5;241;43m.\u001b[39;49m\u001b[43m_cont_handler\u001b[49m\u001b[38;5;241;43m.\u001b[39;49m\u001b[43mendElement\u001b[49m\u001b[43m(\u001b[49m\u001b[43mname\u001b[49m\u001b[43m)\u001b[49m\n",
      "Cell \u001b[1;32mIn[20], line 34\u001b[0m, in \u001b[0;36mXMLHandler_json.endElement\u001b[1;34m(self, name)\u001b[0m\n\u001b[0;32m     23\u001b[0m         \u001b[38;5;28;01mif\u001b[39;00m name \u001b[38;5;129;01min\u001b[39;00m [\u001b[38;5;124m\"\u001b[39m\u001b[38;5;124mproceedings\u001b[39m\u001b[38;5;124m\"\u001b[39m]:\n\u001b[0;32m     24\u001b[0m \u001b[38;5;66;03m#         if name in [\"author\"]:\u001b[39;00m\n\u001b[0;32m     25\u001b[0m \u001b[38;5;66;03m#             try:\u001b[39;00m\n\u001b[1;32m   (...)\u001b[0m\n\u001b[0;32m     30\u001b[0m \u001b[38;5;66;03m#             except:\u001b[39;00m\n\u001b[0;32m     31\u001b[0m \u001b[38;5;66;03m#                 pass\u001b[39;00m\n\u001b[0;32m     33\u001b[0m             \u001b[38;5;28mprint\u001b[39m(json\u001b[38;5;241m.\u001b[39mdumps(\u001b[38;5;28mself\u001b[39m\u001b[38;5;241m.\u001b[39mcurrent_element, indent\u001b[38;5;241m=\u001b[39m\u001b[38;5;241m4\u001b[39m))\n\u001b[1;32m---> 34\u001b[0m             \u001b[38;5;28;43minput\u001b[39;49m\u001b[43m(\u001b[49m\u001b[43m)\u001b[49m\n\u001b[0;32m     35\u001b[0m         clean(\u001b[38;5;28mself\u001b[39m\u001b[38;5;241m.\u001b[39mcurrent_element)\n\u001b[0;32m     36\u001b[0m         \u001b[38;5;28;01mif\u001b[39;00m \u001b[38;5;28mlen\u001b[39m(\u001b[38;5;28mself\u001b[39m\u001b[38;5;241m.\u001b[39melement_stack) \u001b[38;5;241m>\u001b[39m \u001b[38;5;241m1\u001b[39m:\n",
      "File \u001b[1;32m~\\miniconda3\\envs\\DataSys_SAX\\lib\\site-packages\\ipykernel\\kernelbase.py:1175\u001b[0m, in \u001b[0;36mKernel.raw_input\u001b[1;34m(self, prompt)\u001b[0m\n\u001b[0;32m   1171\u001b[0m \u001b[38;5;28;01mif\u001b[39;00m \u001b[38;5;129;01mnot\u001b[39;00m \u001b[38;5;28mself\u001b[39m\u001b[38;5;241m.\u001b[39m_allow_stdin:\n\u001b[0;32m   1172\u001b[0m     \u001b[38;5;28;01mraise\u001b[39;00m StdinNotImplementedError(\n\u001b[0;32m   1173\u001b[0m         \u001b[38;5;124m\"\u001b[39m\u001b[38;5;124mraw_input was called, but this frontend does not support input requests.\u001b[39m\u001b[38;5;124m\"\u001b[39m\n\u001b[0;32m   1174\u001b[0m     )\n\u001b[1;32m-> 1175\u001b[0m \u001b[38;5;28;01mreturn\u001b[39;00m \u001b[38;5;28;43mself\u001b[39;49m\u001b[38;5;241;43m.\u001b[39;49m\u001b[43m_input_request\u001b[49m\u001b[43m(\u001b[49m\n\u001b[0;32m   1176\u001b[0m \u001b[43m    \u001b[49m\u001b[38;5;28;43mstr\u001b[39;49m\u001b[43m(\u001b[49m\u001b[43mprompt\u001b[49m\u001b[43m)\u001b[49m\u001b[43m,\u001b[49m\n\u001b[0;32m   1177\u001b[0m \u001b[43m    \u001b[49m\u001b[38;5;28;43mself\u001b[39;49m\u001b[38;5;241;43m.\u001b[39;49m\u001b[43m_parent_ident\u001b[49m\u001b[43m[\u001b[49m\u001b[38;5;124;43m\"\u001b[39;49m\u001b[38;5;124;43mshell\u001b[39;49m\u001b[38;5;124;43m\"\u001b[39;49m\u001b[43m]\u001b[49m\u001b[43m,\u001b[49m\n\u001b[0;32m   1178\u001b[0m \u001b[43m    \u001b[49m\u001b[38;5;28;43mself\u001b[39;49m\u001b[38;5;241;43m.\u001b[39;49m\u001b[43mget_parent\u001b[49m\u001b[43m(\u001b[49m\u001b[38;5;124;43m\"\u001b[39;49m\u001b[38;5;124;43mshell\u001b[39;49m\u001b[38;5;124;43m\"\u001b[39;49m\u001b[43m)\u001b[49m\u001b[43m,\u001b[49m\n\u001b[0;32m   1179\u001b[0m \u001b[43m    \u001b[49m\u001b[43mpassword\u001b[49m\u001b[38;5;241;43m=\u001b[39;49m\u001b[38;5;28;43;01mFalse\u001b[39;49;00m\u001b[43m,\u001b[49m\n\u001b[0;32m   1180\u001b[0m \u001b[43m\u001b[49m\u001b[43m)\u001b[49m\n",
      "File \u001b[1;32m~\\miniconda3\\envs\\DataSys_SAX\\lib\\site-packages\\ipykernel\\kernelbase.py:1217\u001b[0m, in \u001b[0;36mKernel._input_request\u001b[1;34m(self, prompt, ident, parent, password)\u001b[0m\n\u001b[0;32m   1214\u001b[0m             \u001b[38;5;28;01mbreak\u001b[39;00m\n\u001b[0;32m   1215\u001b[0m \u001b[38;5;28;01mexcept\u001b[39;00m \u001b[38;5;167;01mKeyboardInterrupt\u001b[39;00m:\n\u001b[0;32m   1216\u001b[0m     \u001b[38;5;66;03m# re-raise KeyboardInterrupt, to truncate traceback\u001b[39;00m\n\u001b[1;32m-> 1217\u001b[0m     \u001b[38;5;28;01mraise\u001b[39;00m \u001b[38;5;167;01mKeyboardInterrupt\u001b[39;00m(\u001b[38;5;124m\"\u001b[39m\u001b[38;5;124mInterrupted by user\u001b[39m\u001b[38;5;124m\"\u001b[39m) \u001b[38;5;28;01mfrom\u001b[39;00m \u001b[38;5;28mNone\u001b[39m\n\u001b[0;32m   1218\u001b[0m \u001b[38;5;28;01mexcept\u001b[39;00m \u001b[38;5;167;01mException\u001b[39;00m:\n\u001b[0;32m   1219\u001b[0m     \u001b[38;5;28mself\u001b[39m\u001b[38;5;241m.\u001b[39mlog\u001b[38;5;241m.\u001b[39mwarning(\u001b[38;5;124m\"\u001b[39m\u001b[38;5;124mInvalid Message:\u001b[39m\u001b[38;5;124m\"\u001b[39m, exc_info\u001b[38;5;241m=\u001b[39m\u001b[38;5;28;01mTrue\u001b[39;00m)\n",
      "\u001b[1;31mKeyboardInterrupt\u001b[0m: Interrupted by user"
     ]
    }
   ],
   "source": [
    "import time\n",
    "\n",
    "t1 = time.time()\n",
    "\n",
    "handler = XMLHandler_json()\n",
    "parse(\"data/dblp_new_head.xml\", handler)\n",
    "\n",
    "t2 = time.time()\n",
    "\n",
    "print(\"Time taken:\", t2-t1)\n",
    "# print(handler.article_num)\n",
    "# print(handler.proceedings_num)\n",
    "# print(handler.inproceedings_num)"
   ]
  },
  {
   "cell_type": "code",
   "execution_count": null,
   "id": "716e68d3",
   "metadata": {},
   "outputs": [],
   "source": [
    "\n",
    "root = handler.current_element\n",
    "print(json.dumps(root, indent=4))"
   ]
  },
  {
   "cell_type": "code",
   "execution_count": null,
   "id": "f323a5bb",
   "metadata": {},
   "outputs": [],
   "source": []
  },
  {
   "cell_type": "code",
   "execution_count": null,
   "id": "1de64486",
   "metadata": {},
   "outputs": [],
   "source": []
  },
  {
   "cell_type": "code",
   "execution_count": null,
   "id": "331be7c6",
   "metadata": {},
   "outputs": [],
   "source": []
  },
  {
   "cell_type": "code",
   "execution_count": null,
   "id": "1aa08921",
   "metadata": {},
   "outputs": [],
   "source": []
  },
  {
   "cell_type": "code",
   "execution_count": 1,
   "id": "7d5b7c94",
   "metadata": {},
   "outputs": [],
   "source": [
    "from bs4 import BeautifulSoup"
   ]
  },
  {
   "cell_type": "code",
   "execution_count": 7,
   "id": "cb433b8d",
   "metadata": {},
   "outputs": [],
   "source": [
    "with open('dblp.xml', 'r') as f:\n",
    "    data = f.read()"
   ]
  },
  {
   "cell_type": "code",
   "execution_count": null,
   "id": "3468df0b",
   "metadata": {},
   "outputs": [],
   "source": [
    "Bs_data = BeautifulSoup(data, \"xml\")"
   ]
  },
  {
   "cell_type": "code",
   "execution_count": 6,
   "id": "e7cc1841",
   "metadata": {},
   "outputs": [
    {
     "name": "stdout",
     "output_type": "stream",
     "text": [
      "[<author>Alejandro P. Buchmann</author>, <author>M. Tamer  zsu</author>, <author>Dimitrios Georgakopoulos</author>]\n"
     ]
    }
   ],
   "source": [
    "# Finding all instances of tag\n",
    "# `book`\n",
    "b_book = Bs_data.find_all('author')\n",
    " \n",
    "print(b_book)"
   ]
  },
  {
   "cell_type": "code",
   "execution_count": null,
   "id": "b123aa09",
   "metadata": {},
   "outputs": [],
   "source": []
  },
  {
   "cell_type": "code",
   "execution_count": null,
   "id": "e9a08bd8",
   "metadata": {},
   "outputs": [],
   "source": []
  },
  {
   "cell_type": "code",
   "execution_count": null,
   "id": "f094cdb7",
   "metadata": {},
   "outputs": [],
   "source": []
  },
  {
   "cell_type": "code",
   "execution_count": 1,
   "id": "df79f8ed",
   "metadata": {},
   "outputs": [],
   "source": [
    "import xml.etree.ElementTree as ET"
   ]
  },
  {
   "cell_type": "code",
   "execution_count": 2,
   "id": "6d6f7d8f",
   "metadata": {},
   "outputs": [],
   "source": [
    "tree = ET.parse('./sample.xml')\n",
    "root = tree.getroot()"
   ]
  },
  {
   "cell_type": "code",
   "execution_count": 3,
   "id": "c57c6eaa",
   "metadata": {},
   "outputs": [
    {
     "name": "stdout",
     "output_type": "stream",
     "text": [
      "b'<dblp>\\n    <article mdate=\"2019-10-25\" key=\"tr/gte/TR-0146-06-91-165\" publtype=\"informal\">\\n        <author>Alejandro P. Buchmann</author>\\n        <author>M. Tamer &#214; zsu</author>\\n        <author>Dimitrios Georgakopoulos</author>\\n        <title>Towards a Transaction Management System for DOM.</title>\\n        <journal>GTE Laboratories Incorporated</journal>\\n        <volume>TR-0146-06-91-165</volume>\\n        <month>June</month>\\n        <year>1991</year>\\n        <url>db/journals/gtelab/index.html#TR-0146-06-91-165</url>\\n    </article>\\n</dblp>'\n"
     ]
    }
   ],
   "source": [
    "print(ET.tostring(tree.getroot()))"
   ]
  },
  {
   "cell_type": "code",
   "execution_count": null,
   "id": "d1d2cd00",
   "metadata": {},
   "outputs": [],
   "source": [
    "tree = ET.parse('./dblp.xml')\n",
    "root = tree.getroot()"
   ]
  },
  {
   "cell_type": "code",
   "execution_count": null,
   "id": "35a7f1bc",
   "metadata": {},
   "outputs": [],
   "source": []
  },
  {
   "cell_type": "code",
   "execution_count": null,
   "id": "a4fe95f0",
   "metadata": {},
   "outputs": [],
   "source": []
  },
  {
   "cell_type": "code",
   "execution_count": null,
   "id": "c043087b",
   "metadata": {},
   "outputs": [],
   "source": []
  },
  {
   "cell_type": "code",
   "execution_count": null,
   "id": "5fd0a954",
   "metadata": {},
   "outputs": [],
   "source": [
    "import lxml.etree as ET"
   ]
  },
  {
   "cell_type": "code",
   "execution_count": null,
   "id": "56c2289b",
   "metadata": {},
   "outputs": [],
   "source": [
    "with open('./dblp.xml') as fobj:\n",
    "    xml = fobj.read()"
   ]
  },
  {
   "cell_type": "code",
   "execution_count": null,
   "id": "013e0e09",
   "metadata": {},
   "outputs": [],
   "source": [
    "tree = ET.parse(xml)"
   ]
  },
  {
   "cell_type": "code",
   "execution_count": null,
   "id": "62668767",
   "metadata": {},
   "outputs": [],
   "source": [
    "root = tree.getroot()"
   ]
  },
  {
   "cell_type": "code",
   "execution_count": null,
   "id": "9c9e49b2",
   "metadata": {},
   "outputs": [],
   "source": []
  }
 ],
 "metadata": {
  "kernelspec": {
   "display_name": "Python 3 (ipykernel)",
   "language": "python",
   "name": "python3"
  },
  "language_info": {
   "codemirror_mode": {
    "name": "ipython",
    "version": 3
   },
   "file_extension": ".py",
   "mimetype": "text/x-python",
   "name": "python",
   "nbconvert_exporter": "python",
   "pygments_lexer": "ipython3",
   "version": "3.10.12"
  }
 },
 "nbformat": 4,
 "nbformat_minor": 5
}
