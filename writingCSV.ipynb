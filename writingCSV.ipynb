{
 "cells": [
  {
   "cell_type": "code",
   "execution_count": 36,
   "id": "921a6f0c",
   "metadata": {},
   "outputs": [
    {
     "name": "stdout",
     "output_type": "stream",
     "text": [
      "XML data has been successfully converted to CSV.\n"
     ]
    }
   ],
   "source": [
    "import xml.sax\n",
    "import csv\n",
    "\n",
    "class XMLToCSVHandler(xml.sax.ContentHandler):\n",
    "    def __init__(self, csv_filename):\n",
    "        self.csv_filename = csv_filename\n",
    "        self.chunk_size = chunk_size\n",
    "        self.is_in_proceedings = False\n",
    "        self.current_data = {}\n",
    "        self.proceedings_data = []\n",
    "        self.current_element = \"\"\n",
    "        self.fieldnames = set()\n",
    "        self.current_chunk = 0\n",
    "        self.current_parent_key = \"\"\n",
    "\n",
    "    def startElement(self, name, attrs):\n",
    "        if name == \"incollection\":\n",
    "            self.is_in_proceedings = True\n",
    "            self.current_data = {}\n",
    "            self.current_parent_key = attrs.get(\"key\", \"\")  # Get the key attribute\n",
    "        self.current_element = name  # Keep track of the current element\n",
    "\n",
    "    def characters(self, content):\n",
    "        if self.is_in_proceedings:\n",
    "            content = content.strip()\n",
    "            if content:\n",
    "                if self.current_element not in self.current_data:\n",
    "                    self.current_data[self.current_element] = content\n",
    "                else:\n",
    "                    # If the element already exists, create a list to store multiple values\n",
    "                    if isinstance(self.current_data[self.current_element], list):\n",
    "                        self.current_data[self.current_element].append(content)\n",
    "                    else:\n",
    "                        self.current_data[self.current_element] = [self.current_data[self.current_element], content]\n",
    "                self.fieldnames.add(self.current_element)  # Add the field to fieldnames if missing\n",
    "\n",
    "    def endElement(self, name):\n",
    "        if self.is_in_proceedings and name == \"incollection\":\n",
    "            self.is_in_proceedings = False\n",
    "            self.current_data[\"parent_key\"] = self.current_parent_key  # Add proceedings key\n",
    "            self.proceedings_data.append(self.current_data.copy())  # Append a copy of the data_dict\n",
    "            if len(self.proceedings_data) >= self.chunk_size:\n",
    "                self.write_to_csv()\n",
    "                self.current_chunk += 1\n",
    "                self.proceedings_data = []\n",
    "\n",
    "    def write_to_csv(self):\n",
    "        with open(f\"{self.csv_filename}_{self.current_chunk}.csv\", mode=\"w\", newline=\"\", encoding=\"utf-8\") as csv_file:\n",
    "            if self.proceedings_data:\n",
    "                fieldnames = list(self.fieldnames) + [\"parent_key\"]  # Convert fieldnames set to list\n",
    "                writer = csv.DictWriter(csv_file, fieldnames=fieldnames)\n",
    "                writer.writeheader()\n",
    "                writer.writerows(self.proceedings_data)\n",
    "\n",
    "if __name__ == \"__main__\":\n",
    "    xml_filename = \"dblp.xml\"  # Replace with your XML file name\n",
    "    csv_filename = \"incollection_list_output_\"  # Replace with your desired CSV output file name\n",
    "    chunk_size = 1000000\n",
    "\n",
    "    handler = XMLToCSVHandler(csv_filename)\n",
    "    parser = xml.sax.make_parser()\n",
    "    parser.setContentHandler(handler)\n",
    "    parser.parse(xml_filename)\n",
    "\n",
    "    # Write the captured data to the CSV file\n",
    "    handler.write_to_csv()\n",
    "\n",
    "    print(\"XML data has been successfully converted to CSV.\")\n"
   ]
  },
  {
   "cell_type": "code",
   "execution_count": null,
   "id": "3602b972",
   "metadata": {},
   "outputs": [],
   "source": []
  },
  {
   "cell_type": "code",
   "execution_count": null,
   "id": "24558903",
   "metadata": {},
   "outputs": [],
   "source": []
  },
  {
   "cell_type": "code",
   "execution_count": null,
   "id": "89995781",
   "metadata": {},
   "outputs": [],
   "source": []
  },
  {
   "cell_type": "code",
   "execution_count": null,
   "id": "185fcc1c",
   "metadata": {},
   "outputs": [],
   "source": [
    "\n"
   ]
  },
  {
   "cell_type": "code",
   "execution_count": null,
   "id": "31fd21b1",
   "metadata": {},
   "outputs": [],
   "source": []
  },
  {
   "cell_type": "code",
   "execution_count": null,
   "id": "ce8d242b",
   "metadata": {},
   "outputs": [],
   "source": []
  },
  {
   "cell_type": "code",
   "execution_count": null,
   "id": "a6ceb037",
   "metadata": {},
   "outputs": [],
   "source": []
  },
  {
   "cell_type": "code",
   "execution_count": null,
   "id": "6f781e28",
   "metadata": {},
   "outputs": [],
   "source": []
  },
  {
   "cell_type": "code",
   "execution_count": null,
   "id": "bf763db6",
   "metadata": {},
   "outputs": [],
   "source": []
  },
  {
   "cell_type": "code",
   "execution_count": null,
   "id": "443b2ef4",
   "metadata": {},
   "outputs": [],
   "source": []
  },
  {
   "cell_type": "code",
   "execution_count": null,
   "id": "35bcfa7d",
   "metadata": {},
   "outputs": [],
   "source": []
  },
  {
   "cell_type": "code",
   "execution_count": null,
   "id": "7ba4a843",
   "metadata": {},
   "outputs": [],
   "source": []
  },
  {
   "cell_type": "code",
   "execution_count": null,
   "id": "a3621ead",
   "metadata": {},
   "outputs": [],
   "source": []
  }
 ],
 "metadata": {
  "kernelspec": {
   "display_name": "Python 3 (ipykernel)",
   "language": "python",
   "name": "python3"
  },
  "language_info": {
   "codemirror_mode": {
    "name": "ipython",
    "version": 3
   },
   "file_extension": ".py",
   "mimetype": "text/x-python",
   "name": "python",
   "nbconvert_exporter": "python",
   "pygments_lexer": "ipython3",
   "version": "3.11.4"
  }
 },
 "nbformat": 4,
 "nbformat_minor": 5
}
