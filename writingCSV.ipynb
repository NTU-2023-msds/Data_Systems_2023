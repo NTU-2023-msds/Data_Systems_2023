{
 "cells": [
  {
   "cell_type": "code",
   "execution_count": null,
   "id": "921a6f0c",
   "metadata": {},
   "outputs": [],
   "source": [
    "import xml.sax\n",
    "import csv\n",
    "\n",
    "class XMLToCSVHandler(xml.sax.ContentHandler):\n",
    "    def __init__(self, csv_filename):\n",
    "        self.csv_filename = csv_filename\n",
    "        self.chunk_size = chunk_size\n",
    "        self.is_in_proceedings = False\n",
    "        self.current_data = {}\n",
    "        self.proceedings_data = []\n",
    "        self.current_element = \"\"\n",
    "        self.fieldnames = set()\n",
    "        self.current_chunk = 0\n",
    "\n",
    "    def startElement(self, name, attrs):\n",
    "        if name == \"inproceedings\":\n",
    "            self.is_in_proceedings = True\n",
    "            self.current_data = {}\n",
    "        self.current_element = name  # Keep track of the current element\n",
    "\n",
    "    def characters(self, content):\n",
    "        if self.is_in_proceedings:\n",
    "            content = content.strip()\n",
    "            if content:\n",
    "                if self.current_element not in self.current_data:\n",
    "                    self.current_data[self.current_element] = content\n",
    "                else:\n",
    "                    # If the element already exists, create a list to store multiple values\n",
    "                    if isinstance(self.current_data[self.current_element], list):\n",
    "                        self.current_data[self.current_element].append(content)\n",
    "                    else:\n",
    "                        self.current_data[self.current_element] = [self.current_data[self.current_element], content]\n",
    "                self.fieldnames.add(self.current_element)  # Add the field to fieldnames if missing\n",
    "\n",
    "    def endElement(self, name):\n",
    "        if self.is_in_proceedings and name == \"inproceedings\":\n",
    "            self.is_in_proceedings = False\n",
    "            self.proceedings_data.append(self.current_data.copy())  # Append a copy of the data_dict\n",
    "            if len(self.proceedings_data) >= self.chunk_size:\n",
    "                self.write_to_csv()\n",
    "                self.current_chunk += 1\n",
    "                self.proceedings_data = []\n",
    "\n",
    "    def write_to_csv(self):\n",
    "        with open(f\"{self.csv_filename}_{self.current_chunk}.csv\", mode=\"w\", newline=\"\", encoding=\"utf-8\") as csv_file:\n",
    "            if self.proceedings_data:\n",
    "                fieldnames = list(self.fieldnames)  # Convert fieldnames set to list\n",
    "                writer = csv.DictWriter(csv_file, fieldnames=fieldnames)\n",
    "                writer.writeheader()\n",
    "                writer.writerows(self.proceedings_data)\n",
    "\n",
    "if __name__ == \"__main__\":\n",
    "    xml_filename = \"dblp.xml\"  # Replace with your XML file name\n",
    "    csv_filename = \"inproceedings_list_output.csv\"  # Replace with your desired CSV output file name\n",
    "    chunk_size = 1000000\n",
    "\n",
    "    handler = XMLToCSVHandler(csv_filename)\n",
    "    parser = xml.sax.make_parser()\n",
    "    parser.setContentHandler(handler)\n",
    "    parser.parse(xml_filename)\n",
    "\n",
    "    # Write the captured data to the CSV file\n",
    "    handler.write_to_csv()\n",
    "\n",
    "    print(\"XML data has been successfully converted to CSV.\")\n"
   ]
  },
  {
   "cell_type": "code",
   "execution_count": null,
   "id": "3602b972",
   "metadata": {},
   "outputs": [],
   "source": []
  },
  {
   "cell_type": "code",
   "execution_count": null,
   "id": "24558903",
   "metadata": {},
   "outputs": [],
   "source": []
  },
  {
   "cell_type": "code",
   "execution_count": null,
   "id": "a600fb44",
   "metadata": {},
   "outputs": [],
   "source": []
  },
  {
   "cell_type": "code",
   "execution_count": null,
   "id": "20c74b27",
   "metadata": {},
   "outputs": [],
   "source": [
    "\n"
   ]
  },
  {
   "cell_type": "code",
   "execution_count": null,
   "id": "a38c97bf",
   "metadata": {},
   "outputs": [],
   "source": []
  },
  {
   "cell_type": "code",
   "execution_count": null,
   "id": "f2f1340a",
   "metadata": {},
   "outputs": [],
   "source": []
  },
  {
   "cell_type": "code",
   "execution_count": null,
   "id": "03d2986f",
   "metadata": {},
   "outputs": [],
   "source": []
  },
  {
   "cell_type": "code",
   "execution_count": null,
   "id": "a0a2326d",
   "metadata": {},
   "outputs": [],
   "source": []
  },
  {
   "cell_type": "code",
   "execution_count": null,
   "id": "7bdaf46c",
   "metadata": {},
   "outputs": [],
   "source": []
  },
  {
   "cell_type": "code",
   "execution_count": null,
   "id": "b7b97d42",
   "metadata": {},
   "outputs": [],
   "source": []
  },
  {
   "cell_type": "code",
   "execution_count": null,
   "id": "7f6f15d1",
   "metadata": {},
   "outputs": [],
   "source": []
  },
  {
   "cell_type": "code",
   "execution_count": null,
   "id": "10242f3c",
   "metadata": {},
   "outputs": [],
   "source": []
  },
  {
   "cell_type": "code",
   "execution_count": null,
   "id": "74e0feb5",
   "metadata": {},
   "outputs": [],
   "source": []
  }
 ],
 "metadata": {
  "kernelspec": {
   "display_name": "Python 3 (ipykernel)",
   "language": "python",
   "name": "python3"
  },
  "language_info": {
   "codemirror_mode": {
    "name": "ipython",
    "version": 3
   },
   "file_extension": ".py",
   "mimetype": "text/x-python",
   "name": "python",
   "nbconvert_exporter": "python",
   "pygments_lexer": "ipython3",
   "version": "3.11.4"
  }
 },
 "nbformat": 4,
 "nbformat_minor": 5
}
